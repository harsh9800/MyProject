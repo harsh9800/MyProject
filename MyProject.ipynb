{
 "cells": [
  {
   "cell_type": "code",
   "execution_count": 1,
   "id": "c16eb281-04c7-428a-8425-9652872fd003",
   "metadata": {},
   "outputs": [],
   "source": [
    "def mycalculator():\n",
    "    a=int(input(\"Enter first no:\"))\n",
    "    opr=input(\"Use Operator:\")\n",
    "    b=int(input(\"Enter second no:\"))\n",
    "    if opr==\"+\":\n",
    "        print(f\"{a}+{b}={a+b}\")\n",
    "    elif opr==\"-\":\n",
    "         print(f\"{a}-{b}={a-b}\")\n",
    "    elif opr==\"*\":\n",
    "         print(f\"{a}*{b}={a*b}\")\n",
    "    elif opr==\"/\":\n",
    "         print(f\"{a}/{b}={a/b}\")\n",
    "    else:\n",
    "        return(\"invalid input\")"
   ]
  },
  {
   "cell_type": "code",
   "execution_count": 2,
   "id": "1c9490b1-4e7c-4136-ba99-cb97ac06b9e9",
   "metadata": {},
   "outputs": [
    {
     "name": "stdin",
     "output_type": "stream",
     "text": [
      "Enter first no: 3\n",
      "Use Operator: /\n",
      "Enter second no: 3\n"
     ]
    },
    {
     "name": "stdout",
     "output_type": "stream",
     "text": [
      "3/3=1.0\n"
     ]
    }
   ],
   "source": [
    "mycalculator()"
   ]
  },
  {
   "cell_type": "code",
   "execution_count": 3,
   "id": "46ddab6e-1741-4135-a854-20f1102254c8",
   "metadata": {},
   "outputs": [],
   "source": [
    "import random\n",
    "def DiceRoller():\n",
    "    a=[1,2,3,4,5,6]\n",
    "    return(random.choice(a))"
   ]
  },
  {
   "cell_type": "code",
   "execution_count": 5,
   "id": "9312fe51-3072-420d-a544-7daea2fb1768",
   "metadata": {},
   "outputs": [
    {
     "data": {
      "text/plain": [
       "4"
      ]
     },
     "execution_count": 5,
     "metadata": {},
     "output_type": "execute_result"
    }
   ],
   "source": [
    "DiceRoller()"
   ]
  },
  {
   "cell_type": "code",
   "execution_count": 6,
   "id": "2c4b468f-75bf-49cf-901e-a053d7da5934",
   "metadata": {},
   "outputs": [],
   "source": [
    "import time\n",
    "def StopWatch():\n",
    "    Minute=int(input(\"Set Minute:\"))\n",
    "    Second=int(input(\"Set seconds:\"))\n",
    "    Time=Minute*60+Second\n",
    "    time.sleep(Time)\n",
    "    return(\"Your time is over\")"
   ]
  },
  {
   "cell_type": "code",
   "execution_count": 7,
   "id": "16c612e8-3d13-431f-af00-3b72f99b95a5",
   "metadata": {},
   "outputs": [
    {
     "name": "stdin",
     "output_type": "stream",
     "text": [
      "Set Minute: 0\n",
      "Set seconds: 5\n"
     ]
    },
    {
     "data": {
      "text/plain": [
       "'Your time is over'"
      ]
     },
     "execution_count": 7,
     "metadata": {},
     "output_type": "execute_result"
    }
   ],
   "source": [
    "StopWatch()"
   ]
  },
  {
   "cell_type": "code",
   "execution_count": null,
   "id": "4ce72925-488e-4e49-bd19-87ca6ea69f2e",
   "metadata": {},
   "outputs": [],
   "source": []
  }
 ],
 "metadata": {
  "kernelspec": {
   "display_name": "Python 3 (ipykernel)",
   "language": "python",
   "name": "python3"
  },
  "language_info": {
   "codemirror_mode": {
    "name": "ipython",
    "version": 3
   },
   "file_extension": ".py",
   "mimetype": "text/x-python",
   "name": "python",
   "nbconvert_exporter": "python",
   "pygments_lexer": "ipython3",
   "version": "3.10.8"
  }
 },
 "nbformat": 4,
 "nbformat_minor": 5
}
